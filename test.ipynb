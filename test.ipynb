{
 "cells": [
  {
   "cell_type": "code",
   "execution_count": null,
   "metadata": {},
   "outputs": [],
   "source": [
    "\"\"\"\n",
    "登入帳號密碼功能開發中ing...\n",
    "\"\"\"\n",
    "\n",
    "from selenium import webdriver\n",
    "from selenium.webdriver.chrome.service import Service\n",
    "from selenium.webdriver.chrome.options import Options\n",
    "from selenium.webdriver.common.by import By\n",
    "from selenium.webdriver.common.keys import Keys\n",
    "from selenium.webdriver.support.ui import WebDriverWait\n",
    "from selenium.webdriver.support import expected_conditions as EC\n",
    "import pandas as pd\n",
    "import re\n",
    "import time\n",
    "\n",
    "# 配置 Chrome 驅動\n",
    "chrome_options = Options()\n",
    "chrome_options.add_argument(\"--headless\")  # 隱藏瀏覽器\n",
    "chrome_options.add_argument(\"--disable-gpu\")\n",
    "chrome_options.add_argument(\"--no-sandbox\")\n",
    "\n",
    "# 這裡需要指定您的 ChromeDriver 的路徑\n",
    "driver_path = 'chromedriver.exe'  # 替換為你的 chromedriver 路徑\n",
    "service = Service(driver_path)\n",
    "\n",
    "# 初始化 WebDriver\n",
    "driver = webdriver.Chrome(service=service, options=chrome_options)\n",
    "\n",
    "# 打開登入頁面\n",
    "\n",
    "login_url = \"https://app.yamol.tw/exam/24548\"  # 修改為實際的登入 URL\n",
    "driver.get(login_url)\n",
    "\n",
    "\n",
    "# 增加額外的等待時間確保頁面加載完成\n",
    "time.sleep(5)\n",
    "\n",
    "# 填寫電子郵件和密碼並登錄\n",
    "wait = WebDriverWait(driver, 20)  # 增加超時時間至 20 秒\n",
    "\n",
    "# 填寫電子郵件\n",
    "wait = WebDriverWait(driver, 10)\n",
    "email_input = wait.until(EC.presence_of_element_located((By.NAME, 'email')))\n",
    "email_input.send_keys(\"email\")  # 用您的電子郵件替換\n",
    "\n",
    "# 填寫密碼\n",
    "password_input = driver.find_element(By.XPATH, \"//input[@name='password']\")\n",
    "password_input.send_keys(\"password\")  # 用您的密碼替換\n",
    "\n",
    "# 點擊登入按鈕\n",
    "login_button = driver.find_element(By.XPATH, \"//button[@type='submit' and text()='登入']\")\n",
    "login_button.click()\n",
    "\n",
    "# 等待頁面加載，這裡可以根據需要調整等待時間\n",
    "time.sleep(5)"
   ]
  }
 ],
 "metadata": {
  "kernelspec": {
   "display_name": "ai_project",
   "language": "python",
   "name": "ai_project"
  },
  "language_info": {
   "codemirror_mode": {
    "name": "ipython",
    "version": 3
   },
   "file_extension": ".py",
   "mimetype": "text/x-python",
   "name": "python",
   "nbconvert_exporter": "python",
   "pygments_lexer": "ipython3",
   "version": "3.8.18"
  }
 },
 "nbformat": 4,
 "nbformat_minor": 2
}
